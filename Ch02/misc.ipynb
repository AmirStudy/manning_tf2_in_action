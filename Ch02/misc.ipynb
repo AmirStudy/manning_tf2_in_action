{
 "cells": [
  {
   "cell_type": "code",
   "execution_count": null,
   "metadata": {},
   "outputs": [],
   "source": [
    "import shutil\n",
    "import pandas as pd\n",
    "import os\n",
    "\n",
    "data_dir = os.path.join('data','flower_images')\n",
    "src_dir = os.path.join(data_dir, 'flower_images')\n",
    "dst_dir = os.path.join(data_dir, 'flower_images_keras')\n",
    "\n",
    "# Copy the original data to a separate director\n",
    "if not os.path.exists(dst_dir):\n",
    "    shutil.copytree(src_dir, dst_dir)\n",
    "    \n",
    "# Read the labels CSV file as this contains label information\n",
    "labels_df = pd.read_csv(os.path.join(dst_dir, 'flower_labels.csv'), header=0)\n",
    "\n",
    "def restructure(ser, src_dir, dst_dir):\n",
    "    \"\"\" \n",
    "    This function restructures the data in the folder. \n",
    "    So that a folder representing each label is created. \n",
    "    And the images with a given label are copied to that folder.\n",
    "    \"\"\"\n",
    "    fname,label = ser[\"file\"], ser[\"label\"]\n",
    "    # If the file already exists, do nothing\n",
    "    if os.path.exists(os.path.join(dst_dir, fname)):\n",
    "        # If the label folder is not there, create it\n",
    "        if not os.path.exists(os.path.join(dst_dir,str(label))):\n",
    "            os.makedirs(os.path.join(dst_dir,str(label)))\n",
    "            \n",
    "        # Move the images within the new data folder to correct subfolder\n",
    "        shutil.move(os.path.join(dst_dir, fname),os.path.join(dst_dir,str(label),fname))\n",
    "        \n",
    "# Perform the above function across all entries\n",
    "labels_df.apply(lambda x: restructure(x, src_dir, dst_dir), axis=1)"
   ]
  }
 ],
 "metadata": {
  "kernelspec": {
   "display_name": "Python 3",
   "language": "python",
   "name": "python3"
  },
  "language_info": {
   "codemirror_mode": {
    "name": "ipython",
    "version": 3
   },
   "file_extension": ".py",
   "mimetype": "text/x-python",
   "name": "python",
   "nbconvert_exporter": "python",
   "pygments_lexer": "ipython3",
   "version": "3.6.10"
  }
 },
 "nbformat": 4,
 "nbformat_minor": 4
}
